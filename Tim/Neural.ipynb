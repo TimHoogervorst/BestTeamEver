{
 "cells": [
  {
   "cell_type": "code",
   "execution_count": 1,
   "metadata": {},
   "outputs": [],
   "source": [
    "import torch\n",
    "import torch.nn as nn\n",
    "import torch.optim as optim\n",
    "from torch.utils.data import Dataset, DataLoader\n",
    "import torchvision\n",
    "from torchvision.datasets import ImageFolder\n",
    "import torch.nn.functional as F\n",
    "\n",
    "import matplotlib.pyplot as plt\n",
    "import seaborn as sns\n",
    "import pandas as pd\n",
    "import numpy as np\n",
    "import sys\n",
    "from tqdm.notebook import tqdm"
   ]
  },
  {
   "cell_type": "code",
   "execution_count": 285,
   "metadata": {},
   "outputs": [],
   "source": [
    "class LiveDeathClassifier(nn.Module):\n",
    "    def __init__(self, num_features=19, h1=30, h2=30, h3=20, features=2) -> None:\n",
    "        super(LiveDeathClassifier, self).__init__()\n",
    "        self.fc1 = nn.Linear(num_features, h1)\n",
    "        self.fc2 = nn.Linear(h1, h2)\n",
    "        self.fc3 = nn.Linear(h2, h3)\n",
    "        self.out = nn.Linear(h3, features)\n",
    "\n",
    "    def forward(self, x):\n",
    "        x = F.relu(self.fc1(x))\n",
    "        x = F.relu(self.fc2(x))\n",
    "        x = F.relu(self.fc3(x))\n",
    "        x = self.out(x)\n",
    "        return x"
   ]
  },
  {
   "cell_type": "code",
   "execution_count": 383,
   "metadata": {},
   "outputs": [
    {
     "data": {
      "text/html": [
       "<div>\n",
       "<style scoped>\n",
       "    .dataframe tbody tr th:only-of-type {\n",
       "        vertical-align: middle;\n",
       "    }\n",
       "\n",
       "    .dataframe tbody tr th {\n",
       "        vertical-align: top;\n",
       "    }\n",
       "\n",
       "    .dataframe thead th {\n",
       "        text-align: right;\n",
       "    }\n",
       "</style>\n",
       "<table border=\"1\" class=\"dataframe\">\n",
       "  <thead>\n",
       "    <tr style=\"text-align: right;\">\n",
       "      <th></th>\n",
       "      <th>STEROID</th>\n",
       "      <th>ANTIVIRALS</th>\n",
       "      <th>FATIGUE</th>\n",
       "      <th>MALAISE</th>\n",
       "      <th>ANOREXIA</th>\n",
       "      <th>LIVER BIG</th>\n",
       "      <th>LIVER FIRM</th>\n",
       "      <th>SPLEEN PALPABLE</th>\n",
       "      <th>SPIDERS</th>\n",
       "      <th>ASCITES</th>\n",
       "      <th>VARICES</th>\n",
       "      <th>HISTOLOGY</th>\n",
       "      <th>AGE</th>\n",
       "      <th>BILIRUBIN</th>\n",
       "      <th>ALK PHOSPHATE</th>\n",
       "      <th>SGOT</th>\n",
       "      <th>ALBUMIN</th>\n",
       "      <th>PROTIME</th>\n",
       "      <th>Class</th>\n",
       "      <th>OneHotSex</th>\n",
       "    </tr>\n",
       "  </thead>\n",
       "  <tbody>\n",
       "    <tr>\n",
       "      <th>0</th>\n",
       "      <td>1</td>\n",
       "      <td>0</td>\n",
       "      <td>1</td>\n",
       "      <td>1</td>\n",
       "      <td>0</td>\n",
       "      <td>0</td>\n",
       "      <td>1</td>\n",
       "      <td>0</td>\n",
       "      <td>1</td>\n",
       "      <td>1</td>\n",
       "      <td>1</td>\n",
       "      <td>0</td>\n",
       "      <td>0.661290</td>\n",
       "      <td>0.584416</td>\n",
       "      <td>0.411504</td>\n",
       "      <td>0.541667</td>\n",
       "      <td>0.18750</td>\n",
       "      <td>0.31</td>\n",
       "      <td>1</td>\n",
       "      <td>1.0</td>\n",
       "    </tr>\n",
       "    <tr>\n",
       "      <th>1</th>\n",
       "      <td>0</td>\n",
       "      <td>0</td>\n",
       "      <td>1</td>\n",
       "      <td>0</td>\n",
       "      <td>0</td>\n",
       "      <td>0</td>\n",
       "      <td>1</td>\n",
       "      <td>1</td>\n",
       "      <td>1</td>\n",
       "      <td>0</td>\n",
       "      <td>1</td>\n",
       "      <td>0</td>\n",
       "      <td>0.709677</td>\n",
       "      <td>0.090909</td>\n",
       "      <td>0.333702</td>\n",
       "      <td>0.022727</td>\n",
       "      <td>0.28125</td>\n",
       "      <td>0.63</td>\n",
       "      <td>0</td>\n",
       "      <td>1.0</td>\n",
       "    </tr>\n",
       "    <tr>\n",
       "      <th>2</th>\n",
       "      <td>1</td>\n",
       "      <td>0</td>\n",
       "      <td>1</td>\n",
       "      <td>0</td>\n",
       "      <td>0</td>\n",
       "      <td>0</td>\n",
       "      <td>1</td>\n",
       "      <td>0</td>\n",
       "      <td>0</td>\n",
       "      <td>0</td>\n",
       "      <td>0</td>\n",
       "      <td>1</td>\n",
       "      <td>0.532258</td>\n",
       "      <td>0.038961</td>\n",
       "      <td>0.141593</td>\n",
       "      <td>0.575758</td>\n",
       "      <td>0.59375</td>\n",
       "      <td>0.63</td>\n",
       "      <td>0</td>\n",
       "      <td>1.0</td>\n",
       "    </tr>\n",
       "    <tr>\n",
       "      <th>3</th>\n",
       "      <td>0</td>\n",
       "      <td>0</td>\n",
       "      <td>1</td>\n",
       "      <td>0</td>\n",
       "      <td>0</td>\n",
       "      <td>1</td>\n",
       "      <td>1</td>\n",
       "      <td>1</td>\n",
       "      <td>1</td>\n",
       "      <td>1</td>\n",
       "      <td>1</td>\n",
       "      <td>0</td>\n",
       "      <td>0.290323</td>\n",
       "      <td>0.129870</td>\n",
       "      <td>0.668142</td>\n",
       "      <td>0.632576</td>\n",
       "      <td>0.75000</td>\n",
       "      <td>0.57</td>\n",
       "      <td>0</td>\n",
       "      <td>1.0</td>\n",
       "    </tr>\n",
       "    <tr>\n",
       "      <th>4</th>\n",
       "      <td>1</td>\n",
       "      <td>0</td>\n",
       "      <td>1</td>\n",
       "      <td>0</td>\n",
       "      <td>0</td>\n",
       "      <td>1</td>\n",
       "      <td>1</td>\n",
       "      <td>0</td>\n",
       "      <td>1</td>\n",
       "      <td>0</td>\n",
       "      <td>0</td>\n",
       "      <td>1</td>\n",
       "      <td>0.435484</td>\n",
       "      <td>0.090909</td>\n",
       "      <td>0.185841</td>\n",
       "      <td>0.121212</td>\n",
       "      <td>0.71875</td>\n",
       "      <td>0.57</td>\n",
       "      <td>0</td>\n",
       "      <td>1.0</td>\n",
       "    </tr>\n",
       "    <tr>\n",
       "      <th>...</th>\n",
       "      <td>...</td>\n",
       "      <td>...</td>\n",
       "      <td>...</td>\n",
       "      <td>...</td>\n",
       "      <td>...</td>\n",
       "      <td>...</td>\n",
       "      <td>...</td>\n",
       "      <td>...</td>\n",
       "      <td>...</td>\n",
       "      <td>...</td>\n",
       "      <td>...</td>\n",
       "      <td>...</td>\n",
       "      <td>...</td>\n",
       "      <td>...</td>\n",
       "      <td>...</td>\n",
       "      <td>...</td>\n",
       "      <td>...</td>\n",
       "      <td>...</td>\n",
       "      <td>...</td>\n",
       "      <td>...</td>\n",
       "    </tr>\n",
       "    <tr>\n",
       "      <th>97</th>\n",
       "      <td>0</td>\n",
       "      <td>0</td>\n",
       "      <td>1</td>\n",
       "      <td>1</td>\n",
       "      <td>1</td>\n",
       "      <td>0</td>\n",
       "      <td>0</td>\n",
       "      <td>1</td>\n",
       "      <td>0</td>\n",
       "      <td>0</td>\n",
       "      <td>0</td>\n",
       "      <td>1</td>\n",
       "      <td>0.258065</td>\n",
       "      <td>0.129870</td>\n",
       "      <td>0.725664</td>\n",
       "      <td>0.515152</td>\n",
       "      <td>0.62500</td>\n",
       "      <td>0.90</td>\n",
       "      <td>0</td>\n",
       "      <td>1.0</td>\n",
       "    </tr>\n",
       "    <tr>\n",
       "      <th>98</th>\n",
       "      <td>1</td>\n",
       "      <td>0</td>\n",
       "      <td>0</td>\n",
       "      <td>0</td>\n",
       "      <td>0</td>\n",
       "      <td>0</td>\n",
       "      <td>1</td>\n",
       "      <td>0</td>\n",
       "      <td>0</td>\n",
       "      <td>0</td>\n",
       "      <td>0</td>\n",
       "      <td>0</td>\n",
       "      <td>0.500000</td>\n",
       "      <td>0.012987</td>\n",
       "      <td>0.942478</td>\n",
       "      <td>0.132576</td>\n",
       "      <td>0.53125</td>\n",
       "      <td>0.90</td>\n",
       "      <td>1</td>\n",
       "      <td>1.0</td>\n",
       "    </tr>\n",
       "    <tr>\n",
       "      <th>99</th>\n",
       "      <td>1</td>\n",
       "      <td>0</td>\n",
       "      <td>0</td>\n",
       "      <td>0</td>\n",
       "      <td>0</td>\n",
       "      <td>0</td>\n",
       "      <td>0</td>\n",
       "      <td>1</td>\n",
       "      <td>0</td>\n",
       "      <td>0</td>\n",
       "      <td>0</td>\n",
       "      <td>1</td>\n",
       "      <td>0.467742</td>\n",
       "      <td>0.064935</td>\n",
       "      <td>0.243363</td>\n",
       "      <td>0.113636</td>\n",
       "      <td>0.65625</td>\n",
       "      <td>0.85</td>\n",
       "      <td>0</td>\n",
       "      <td>1.0</td>\n",
       "    </tr>\n",
       "    <tr>\n",
       "      <th>100</th>\n",
       "      <td>1</td>\n",
       "      <td>1</td>\n",
       "      <td>1</td>\n",
       "      <td>1</td>\n",
       "      <td>0</td>\n",
       "      <td>0</td>\n",
       "      <td>0</td>\n",
       "      <td>0</td>\n",
       "      <td>0</td>\n",
       "      <td>0</td>\n",
       "      <td>0</td>\n",
       "      <td>1</td>\n",
       "      <td>0.403226</td>\n",
       "      <td>0.090909</td>\n",
       "      <td>0.110619</td>\n",
       "      <td>0.117424</td>\n",
       "      <td>0.62500</td>\n",
       "      <td>0.56</td>\n",
       "      <td>0</td>\n",
       "      <td>1.0</td>\n",
       "    </tr>\n",
       "    <tr>\n",
       "      <th>101</th>\n",
       "      <td>1</td>\n",
       "      <td>1</td>\n",
       "      <td>0</td>\n",
       "      <td>0</td>\n",
       "      <td>0</td>\n",
       "      <td>1</td>\n",
       "      <td>1</td>\n",
       "      <td>0</td>\n",
       "      <td>0</td>\n",
       "      <td>0</td>\n",
       "      <td>0</td>\n",
       "      <td>0</td>\n",
       "      <td>0.758065</td>\n",
       "      <td>0.090909</td>\n",
       "      <td>0.553097</td>\n",
       "      <td>0.799242</td>\n",
       "      <td>0.46875</td>\n",
       "      <td>0.67</td>\n",
       "      <td>0</td>\n",
       "      <td>1.0</td>\n",
       "    </tr>\n",
       "  </tbody>\n",
       "</table>\n",
       "<p>102 rows × 20 columns</p>\n",
       "</div>"
      ],
      "text/plain": [
       "     STEROID  ANTIVIRALS  FATIGUE  MALAISE  ANOREXIA  LIVER BIG  LIVER FIRM  \\\n",
       "0          1           0        1        1         0          0           1   \n",
       "1          0           0        1        0         0          0           1   \n",
       "2          1           0        1        0         0          0           1   \n",
       "3          0           0        1        0         0          1           1   \n",
       "4          1           0        1        0         0          1           1   \n",
       "..       ...         ...      ...      ...       ...        ...         ...   \n",
       "97         0           0        1        1         1          0           0   \n",
       "98         1           0        0        0         0          0           1   \n",
       "99         1           0        0        0         0          0           0   \n",
       "100        1           1        1        1         0          0           0   \n",
       "101        1           1        0        0         0          1           1   \n",
       "\n",
       "     SPLEEN PALPABLE  SPIDERS  ASCITES  VARICES  HISTOLOGY       AGE  \\\n",
       "0                  0        1        1        1          0  0.661290   \n",
       "1                  1        1        0        1          0  0.709677   \n",
       "2                  0        0        0        0          1  0.532258   \n",
       "3                  1        1        1        1          0  0.290323   \n",
       "4                  0        1        0        0          1  0.435484   \n",
       "..               ...      ...      ...      ...        ...       ...   \n",
       "97                 1        0        0        0          1  0.258065   \n",
       "98                 0        0        0        0          0  0.500000   \n",
       "99                 1        0        0        0          1  0.467742   \n",
       "100                0        0        0        0          1  0.403226   \n",
       "101                0        0        0        0          0  0.758065   \n",
       "\n",
       "     BILIRUBIN  ALK PHOSPHATE      SGOT  ALBUMIN  PROTIME  Class  OneHotSex  \n",
       "0     0.584416       0.411504  0.541667  0.18750     0.31      1        1.0  \n",
       "1     0.090909       0.333702  0.022727  0.28125     0.63      0        1.0  \n",
       "2     0.038961       0.141593  0.575758  0.59375     0.63      0        1.0  \n",
       "3     0.129870       0.668142  0.632576  0.75000     0.57      0        1.0  \n",
       "4     0.090909       0.185841  0.121212  0.71875     0.57      0        1.0  \n",
       "..         ...            ...       ...      ...      ...    ...        ...  \n",
       "97    0.129870       0.725664  0.515152  0.62500     0.90      0        1.0  \n",
       "98    0.012987       0.942478  0.132576  0.53125     0.90      1        1.0  \n",
       "99    0.064935       0.243363  0.113636  0.65625     0.85      0        1.0  \n",
       "100   0.090909       0.110619  0.117424  0.62500     0.56      0        1.0  \n",
       "101   0.090909       0.553097  0.799242  0.46875     0.67      0        1.0  \n",
       "\n",
       "[102 rows x 20 columns]"
      ]
     },
     "execution_count": 383,
     "metadata": {},
     "output_type": "execute_result"
    }
   ],
   "source": [
    "main = pd.read_csv('../data/cleaned_train.csv')\n",
    "main['Class'] = main['Class'].map(lambda x : 1 if x == 'DIE' else 0)\n",
    "main"
   ]
  },
  {
   "cell_type": "code",
   "execution_count": 384,
   "metadata": {},
   "outputs": [],
   "source": [
    "X = main.copy()\n",
    "\n",
    "for col in ['Class']:\n",
    "    if col in main.columns:\n",
    "        X = X.drop(col, axis=1)\n",
    "\n",
    "y=main[['Class']]"
   ]
  },
  {
   "cell_type": "code",
   "execution_count": 288,
   "metadata": {},
   "outputs": [
    {
     "data": {
      "text/plain": [
       "((162, 19), (162, 1))"
      ]
     },
     "execution_count": 288,
     "metadata": {},
     "output_type": "execute_result"
    }
   ],
   "source": [
    "from imblearn.over_sampling import RandomOverSampler\n",
    "\n",
    "# resample the X_train and y_train data\n",
    "ros = RandomOverSampler(random_state=69)\n",
    "\n",
    "# for now, ros is only applied on the train data\n",
    "X, y = ros.fit_resample(X, y)\n",
    "\n",
    "X.shape, y.shape"
   ]
  },
  {
   "cell_type": "code",
   "execution_count": 289,
   "metadata": {},
   "outputs": [],
   "source": [
    "X = X.values\n",
    "y = y.values"
   ]
  },
  {
   "cell_type": "code",
   "execution_count": 290,
   "metadata": {},
   "outputs": [],
   "source": [
    "from sklearn.model_selection import train_test_split\n",
    "\n",
    "X_train, X_test, y_train, y_test = train_test_split(X,y, test_size=0.2, random_state=69, shuffle=True)"
   ]
  },
  {
   "cell_type": "code",
   "execution_count": 291,
   "metadata": {},
   "outputs": [],
   "source": [
    "X_train = torch.FloatTensor(X_train)\n",
    "X_test = torch.FloatTensor(X_test)"
   ]
  },
  {
   "cell_type": "code",
   "execution_count": 292,
   "metadata": {},
   "outputs": [],
   "source": [
    "y_train = torch.LongTensor(y_train).squeeze()\n",
    "y_test = torch.LongTensor(y_test).squeeze()"
   ]
  },
  {
   "cell_type": "code",
   "execution_count": 293,
   "metadata": {},
   "outputs": [
    {
     "data": {
      "text/plain": [
       "torch.Size([33])"
      ]
     },
     "execution_count": 293,
     "metadata": {},
     "output_type": "execute_result"
    }
   ],
   "source": [
    "y_test.shape"
   ]
  },
  {
   "cell_type": "code",
   "execution_count": 294,
   "metadata": {},
   "outputs": [
    {
     "data": {
      "text/plain": [
       "torch.Size([129, 19])"
      ]
     },
     "execution_count": 294,
     "metadata": {},
     "output_type": "execute_result"
    }
   ],
   "source": [
    "X_train.shape"
   ]
  },
  {
   "cell_type": "code",
   "execution_count": 325,
   "metadata": {},
   "outputs": [
    {
     "name": "stdout",
     "output_type": "stream",
     "text": [
      "Epoch : 1 and loss 0.6945039629936218 and eval 0.6824457049369812\n",
      "Epoch : 2 and loss 0.6756431460380554 and eval 0.6608999371528625\n",
      "Epoch : 3 and loss 0.6514252424240112 and eval 0.631446361541748\n",
      "Epoch : 4 and loss 0.6202691793441772 and eval 0.5912861824035645\n",
      "Epoch : 5 and loss 0.5801475644111633 and eval 0.5422453284263611\n",
      "Epoch : 6 and loss 0.535758376121521 and eval 0.48349514603614807\n",
      "Epoch : 7 and loss 0.49161577224731445 and eval 0.4174370765686035\n",
      "Epoch : 8 and loss 0.45211926102638245 and eval 0.35482150316238403\n",
      "Epoch : 9 and loss 0.41697996854782104 and eval 0.3067924380302429\n",
      "Epoch : 10 and loss 0.3875637948513031 and eval 0.27242833375930786\n",
      "Epoch : 11 and loss 0.36254963278770447 and eval 0.2482493370771408\n",
      "Epoch : 12 and loss 0.3420844078063965 and eval 0.22565262019634247\n",
      "Epoch : 13 and loss 0.32435762882232666 and eval 0.20679038763046265\n",
      "Epoch : 14 and loss 0.3114980459213257 and eval 0.19102351367473602\n",
      "Epoch : 15 and loss 0.29781079292297363 and eval 0.18048058450222015\n",
      "Epoch : 16 and loss 0.2874752879142761 and eval 0.16913270950317383\n",
      "Epoch : 17 and loss 0.27765634655952454 and eval 0.15764488279819489\n",
      "Epoch : 18 and loss 0.2630305290222168 and eval 0.14181415736675262\n",
      "Epoch : 19 and loss 0.2459256798028946 and eval 0.12429231405258179\n",
      "Epoch : 20 and loss 0.2284114509820938 and eval 0.10904164612293243\n",
      "Epoch : 21 and loss 0.2092256098985672 and eval 0.09629875421524048\n",
      "Epoch : 22 and loss 0.1902480125427246 and eval 0.09198366850614548\n",
      "Epoch : 23 and loss 0.17410387098789215 and eval 0.0881495401263237\n",
      "Epoch : 24 and loss 0.15838654339313507 and eval 0.0880957618355751\n",
      "Epoch : 25 and loss 0.14451779425144196 and eval 0.08807248622179031\n",
      "Epoch : 26 and loss 0.13203804194927216 and eval 0.08644616603851318\n",
      "Epoch : 27 and loss 0.11713902652263641 and eval 0.08683998882770538\n",
      "Epoch : 28 and loss 0.10250542312860489 and eval 0.08276623487472534\n",
      "Epoch : 29 and loss 0.08955612778663635 and eval 0.07640983909368515\n",
      "Epoch : 30 and loss 0.07837168127298355 and eval 0.07028063386678696\n",
      "Epoch : 31 and loss 0.06803286820650101 and eval 0.05975494906306267\n",
      "Epoch : 32 and loss 0.05792434141039848 and eval 0.05196458101272583\n",
      "Epoch : 33 and loss 0.04786989092826843 and eval 0.04604644700884819\n",
      "Epoch : 34 and loss 0.038287170231342316 and eval 0.04024301469326019\n",
      "Epoch : 35 and loss 0.029382646083831787 and eval 0.03700712323188782\n",
      "Epoch : 36 and loss 0.02229435369372368 and eval 0.034949276596307755\n",
      "Epoch : 37 and loss 0.0176685843616724 and eval 0.030283264815807343\n",
      "Epoch : 38 and loss 0.013485605828464031 and eval 0.02701830118894577\n",
      "Epoch : 39 and loss 0.009816933423280716 and eval 0.026133356615900993\n",
      "Epoch : 40 and loss 0.007421679329127073 and eval 0.024471426382660866\n"
     ]
    }
   ],
   "source": [
    "epochs = 40\n",
    "losses, eval_losses = [], []\n",
    "\n",
    "model = LiveDeathClassifier()\n",
    "criterion = nn.CrossEntropyLoss()\n",
    "optimzer = torch.optim.Adam(model.parameters(), lr=0.01)\n",
    "\n",
    "for i in range(epochs):\n",
    "    model.train()\n",
    "    y_pred = model.forward(X_train)\n",
    "    loss = criterion(y_pred, y_train)\n",
    "    losses.append(loss.detach().numpy())\n",
    "    optimzer.zero_grad()\n",
    "    loss.backward()\n",
    "    optimzer.step()\n",
    "    \n",
    "    with torch.no_grad():\n",
    "        model.eval()\n",
    "        y_eval = model.forward(X_test)\n",
    "        loss_eval = criterion(y_eval, y_test)\n",
    "        eval_losses.append(loss_eval.detach().numpy())\n",
    "    \n",
    "    print(f\"Epoch : {i+1} and loss {loss} and eval {loss_eval}\")\n",
    "\n"
   ]
  },
  {
   "cell_type": "code",
   "execution_count": 326,
   "metadata": {},
   "outputs": [
    {
     "data": {
      "text/plain": [
       "<Axes: >"
      ]
     },
     "execution_count": 326,
     "metadata": {},
     "output_type": "execute_result"
    },
    {
     "data": {
      "image/png": "[encoded data removed]",
      "text/plain": [
       "<Figure size 640x480 with 1 Axes>"
      ]
     },
     "metadata": {},
     "output_type": "display_data"
    }
   ],
   "source": [
    "losses = [float(x) for x in losses]\n",
    "losses_val = [float(x) for x in eval_losses]\n",
    "\n",
    "sns.lineplot(losses)\n",
    "sns.lineplot(losses_val)"
   ]
  },
  {
   "cell_type": "code",
   "execution_count": 331,
   "metadata": {},
   "outputs": [
    {
     "name": "stdout",
     "output_type": "stream",
     "text": [
      "1 : tensor([ 0.6405, -0.1181])   0  0\n",
      "2 : tensor([ 6.3112, -4.0988])   0  0\n",
      "3 : tensor([-3.5889,  3.4980])   1  1\n",
      "4 : tensor([-3.5597,  3.3872])   1  1\n",
      "5 : tensor([ 7.0469, -4.5774])   0  0\n",
      "6 : tensor([ 6.3484, -4.0990])   0  0\n",
      "7 : tensor([ 6.4082, -4.0737])   0  0\n",
      "8 : tensor([-2.0295,  2.1403])   1  1\n",
      "9 : tensor([ 4.5916, -3.0290])   0  0\n",
      "10 : tensor([ 3.3150, -1.6590])   0  0\n",
      "11 : tensor([-6.8304,  5.7301])   1  1\n",
      "12 : tensor([-7.2998,  6.1310])   1  1\n",
      "13 : tensor([ 5.0999, -3.3274])   0  0\n",
      "14 : tensor([-3.7885,  3.7026])   1  1\n",
      "15 : tensor([-4.1442,  3.9682])   1  1\n",
      "16 : tensor([ 0.9277, -0.0711])   0  0\n",
      "17 : tensor([-4.1442,  3.9682])   1  1\n",
      "18 : tensor([-3.5597,  3.3872])   1  1\n",
      "19 : tensor([ 4.8871, -3.1951])   0  0\n",
      "20 : tensor([ 2.9109, -1.5380])   0  0\n",
      "21 : tensor([ 5.0378, -3.2923])   0  0\n",
      "22 : tensor([-6.1306,  5.3167])   1  1\n",
      "23 : tensor([ 2.5774, -1.7290])   0  0\n",
      "24 : tensor([ 2.9110, -1.4851])   0  0\n",
      "25 : tensor([-4.2215,  3.9075])   1  1\n",
      "26 : tensor([ 4.2038, -2.7495])   0  0\n",
      "27 : tensor([ 4.2531, -2.5928])   0  0\n",
      "28 : tensor([-7.2998,  6.1310])   1  1\n",
      "29 : tensor([ 6.0732, -3.9626])   0  0\n",
      "30 : tensor([ 3.5250, -2.2328])   0  0\n",
      "31 : tensor([-3.7885,  3.7026])   1  1\n",
      "32 : tensor([-7.3035,  6.4880])   1  1\n",
      "33 : tensor([-1.4104,  1.8135])   1  1\n"
     ]
    }
   ],
   "source": [
    "with torch.no_grad():\n",
    "    model.eval()\n",
    "    for i, data in enumerate(X_test):\n",
    "        y_pred = model.forward(data)\n",
    "\n",
    "        print(f'{i+1} : {str(y_pred)}   {y_pred.argmax().item()}  {y_test[i]}')\n"
   ]
  },
  {
   "cell_type": "code",
   "execution_count": 337,
   "metadata": {},
   "outputs": [],
   "source": [
    "test = pd.read_csv('../data/cleaned_test.csv')"
   ]
  },
  {
   "cell_type": "code",
   "execution_count": 392,
   "metadata": {},
   "outputs": [
    {
     "data": {
      "text/plain": [
       "tensor([[0., 0., 1.,  ..., 0., 0., 1.],\n",
       "        [0., 1., 1.,  ..., 0., 0., 0.],\n",
       "        [1., 0., 1.,  ..., 0., 0., 1.],\n",
       "        ...,\n",
       "        [0., 0., 0.,  ..., 0., 0., 1.],\n",
       "        [1., 0., 1.,  ..., 0., 0., 1.],\n",
       "        [1., 1., 0.,  ..., 0., 0., 1.]])"
      ]
     },
     "execution_count": 392,
     "metadata": {},
     "output_type": "execute_result"
    }
   ],
   "source": [
    "test_tens = torch.LongTensor(test.values).squeeze().float()\n",
    "test_tens"
   ]
  },
  {
   "cell_type": "code",
   "execution_count": 393,
   "metadata": {},
   "outputs": [],
   "source": [
    "list = []\n",
    "\n",
    "with torch.no_grad():\n",
    "    model.eval()\n",
    "    for i, data in enumerate(test_tens):\n",
    "        y_pred = model.forward(data)\n",
    "\n",
    "        list.append(y_pred.argmax().item())"
   ]
  },
  {
   "cell_type": "code",
   "execution_count": 399,
   "metadata": {},
   "outputs": [
    {
     "data": {
      "text/plain": [
       "Class\n",
       "DIE      38\n",
       "LIVE     15\n",
       "Name: count, dtype: int64"
      ]
     },
     "execution_count": 399,
     "metadata": {},
     "output_type": "execute_result"
    }
   ],
   "source": [
    "final = pd.DataFrame({\"Class\":list})\n",
    "final\n",
    "\n",
    "final['Class'] = final['Class'].apply(lambda x : 'DIE' if x == 1 else 'LIVE')\n",
    "final.value_counts()"
   ]
  },
  {
   "cell_type": "code",
   "execution_count": null,
   "metadata": {},
   "outputs": [],
   "source": [
    "csv = pd.read_csv('../Alina/group_7.csv')\n",
    "csv.shape"
   ]
  },
  {
   "cell_type": "code",
   "execution_count": 366,
   "metadata": {},
   "outputs": [
    {
     "data": {
      "text/plain": [
       "(33, 1)"
      ]
     },
     "execution_count": 366,
     "metadata": {},
     "output_type": "execute_result"
    }
   ],
   "source": [
    "final.shape"
   ]
  },
  {
   "cell_type": "code",
   "execution_count": 396,
   "metadata": {},
   "outputs": [],
   "source": [
    "final.to_csv('group_7-2.csv', index=False)"
   ]
  }
 ],
 "metadata": {
  "kernelspec": {
   "display_name": "Python 3",
   "language": "python",
   "name": "python3"
  },
  "language_info": {
   "codemirror_mode": {
    "name": "ipython",
    "version": 3
   },
   "file_extension": ".py",
   "mimetype": "text/x-python",
   "name": "python",
   "nbconvert_exporter": "python",
   "pygments_lexer": "ipython3",
   "version": "3.11.7"
  }
 },
 "nbformat": 4,
 "nbformat_minor": 2
}
